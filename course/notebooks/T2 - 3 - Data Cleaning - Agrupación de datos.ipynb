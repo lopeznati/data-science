{
 "cells": [
  {
   "cell_type": "markdown",
   "metadata": {},
   "source": [
    "## Agregación de datos por categoría"
   ]
  },
  {
   "cell_type": "code",
   "execution_count": 8,
   "metadata": {},
   "outputs": [],
   "source": [
    "# Agregar datos es combinar con algun criterio el mas tipico es una varibale categorica para junatar todo la informacion de una misma categoria.\n",
    "# Es comun utilizar variables categoricas y tomar una decision de donde pertenece cada elemento."
   ]
  },
  {
   "cell_type": "code",
   "execution_count": 9,
   "metadata": {},
   "outputs": [],
   "source": [
    "import numpy as np\n",
    "import pandas as pd"
   ]
  },
  {
   "cell_type": "code",
   "execution_count": 10,
   "metadata": {},
   "outputs": [],
   "source": [
    "gender = [\"Male\", \"Female\"]\n",
    "income = [\"Poor\", \"Middle Class\", \"Rich\"]"
   ]
  },
  {
   "cell_type": "code",
   "execution_count": 11,
   "metadata": {},
   "outputs": [],
   "source": [
    "\n",
    "\n",
    "n = 500 # tamaño del dataset\n",
    "\n",
    "gender_data = []\n",
    "income_data = []\n",
    "\n",
    "for i in range(0,500):\n",
    "    gender_data.append(np.random.choice(gender))\n",
    "    income_data.append(np.random.choice(income))\n",
    "\n"
   ]
  },
  {
   "cell_type": "code",
   "execution_count": 12,
   "metadata": {},
   "outputs": [
    {
     "data": {
      "text/plain": [
       "['Female',\n",
       " 'Male',\n",
       " 'Female',\n",
       " 'Female',\n",
       " 'Female',\n",
       " 'Female',\n",
       " 'Female',\n",
       " 'Female',\n",
       " 'Male']"
      ]
     },
     "execution_count": 12,
     "metadata": {},
     "output_type": "execute_result"
    }
   ],
   "source": [
    "gender_data[1:10]"
   ]
  },
  {
   "cell_type": "code",
   "execution_count": 13,
   "metadata": {},
   "outputs": [
    {
     "data": {
      "text/plain": [
       "['Middle Class',\n",
       " 'Rich',\n",
       " 'Rich',\n",
       " 'Rich',\n",
       " 'Rich',\n",
       " 'Middle Class',\n",
       " 'Poor',\n",
       " 'Rich',\n",
       " 'Poor']"
      ]
     },
     "execution_count": 13,
     "metadata": {},
     "output_type": "execute_result"
    }
   ],
   "source": [
    "income_data[1:10]"
   ]
  },
  {
   "cell_type": "code",
   "execution_count": 14,
   "metadata": {},
   "outputs": [],
   "source": [
    "#Z -> N(0,1)\n",
    "#N(m, s) -> m + s * Z\n",
    "height = 160 + 30 * np.random.randn(n) # dist normal, media=160 y dispercion=30\n",
    "weight = 65 + 25 * np.random.randn(n)\n",
    "age = 30 + 12 * np.random.randn(n)\n",
    "income = 18000 + 3500 * np.random.rand(n)"
   ]
  },
  {
   "cell_type": "code",
   "execution_count": 15,
   "metadata": {},
   "outputs": [],
   "source": [
    "data = pd.DataFrame(\n",
    "    {\n",
    "        \"Gender\" : gender_data,\n",
    "        \"Economic Status\" : income_data,\n",
    "        \"Height\" : height,\n",
    "        \"Weight\" : weight,\n",
    "        \"Age\" : age,\n",
    "        \"Income\" : income\n",
    "    }\n",
    ")"
   ]
  },
  {
   "cell_type": "code",
   "execution_count": 17,
   "metadata": {},
   "outputs": [
    {
     "data": {
      "text/html": [
       "<div>\n",
       "<style scoped>\n",
       "    .dataframe tbody tr th:only-of-type {\n",
       "        vertical-align: middle;\n",
       "    }\n",
       "\n",
       "    .dataframe tbody tr th {\n",
       "        vertical-align: top;\n",
       "    }\n",
       "\n",
       "    .dataframe thead th {\n",
       "        text-align: right;\n",
       "    }\n",
       "</style>\n",
       "<table border=\"1\" class=\"dataframe\">\n",
       "  <thead>\n",
       "    <tr style=\"text-align: right;\">\n",
       "      <th></th>\n",
       "      <th>Gender</th>\n",
       "      <th>Economic Status</th>\n",
       "      <th>Height</th>\n",
       "      <th>Weight</th>\n",
       "      <th>Age</th>\n",
       "      <th>Income</th>\n",
       "    </tr>\n",
       "  </thead>\n",
       "  <tbody>\n",
       "    <tr>\n",
       "      <td>0</td>\n",
       "      <td>Male</td>\n",
       "      <td>Poor</td>\n",
       "      <td>157.069589</td>\n",
       "      <td>73.369844</td>\n",
       "      <td>18.689996</td>\n",
       "      <td>20616.067072</td>\n",
       "    </tr>\n",
       "    <tr>\n",
       "      <td>1</td>\n",
       "      <td>Female</td>\n",
       "      <td>Middle Class</td>\n",
       "      <td>202.433766</td>\n",
       "      <td>45.754030</td>\n",
       "      <td>17.890561</td>\n",
       "      <td>21254.426357</td>\n",
       "    </tr>\n",
       "    <tr>\n",
       "      <td>2</td>\n",
       "      <td>Male</td>\n",
       "      <td>Rich</td>\n",
       "      <td>207.786588</td>\n",
       "      <td>53.579648</td>\n",
       "      <td>38.889537</td>\n",
       "      <td>21236.220662</td>\n",
       "    </tr>\n",
       "    <tr>\n",
       "      <td>3</td>\n",
       "      <td>Female</td>\n",
       "      <td>Rich</td>\n",
       "      <td>188.042725</td>\n",
       "      <td>38.534451</td>\n",
       "      <td>32.639086</td>\n",
       "      <td>18666.904711</td>\n",
       "    </tr>\n",
       "    <tr>\n",
       "      <td>4</td>\n",
       "      <td>Female</td>\n",
       "      <td>Rich</td>\n",
       "      <td>185.439287</td>\n",
       "      <td>92.383559</td>\n",
       "      <td>22.089621</td>\n",
       "      <td>18897.096895</td>\n",
       "    </tr>\n",
       "  </tbody>\n",
       "</table>\n",
       "</div>"
      ],
      "text/plain": [
       "   Gender Economic Status      Height     Weight        Age        Income\n",
       "0    Male            Poor  157.069589  73.369844  18.689996  20616.067072\n",
       "1  Female    Middle Class  202.433766  45.754030  17.890561  21254.426357\n",
       "2    Male            Rich  207.786588  53.579648  38.889537  21236.220662\n",
       "3  Female            Rich  188.042725  38.534451  32.639086  18666.904711\n",
       "4  Female            Rich  185.439287  92.383559  22.089621  18897.096895"
      ]
     },
     "execution_count": 17,
     "metadata": {},
     "output_type": "execute_result"
    }
   ],
   "source": [
    "data.head()"
   ]
  },
  {
   "cell_type": "markdown",
   "metadata": {},
   "source": [
    "## Agrupación de datos"
   ]
  },
  {
   "cell_type": "code",
   "execution_count": 18,
   "metadata": {},
   "outputs": [],
   "source": [
    "grouped_gender = data.groupby(\"Gender\")"
   ]
  },
  {
   "cell_type": "code",
   "execution_count": 19,
   "metadata": {},
   "outputs": [
    {
     "data": {
      "text/plain": [
       "{'Female': Int64Index([  1,   3,   4,   5,   6,   7,   8,  12,  13,  15,\n",
       "             ...\n",
       "             482, 484, 485, 486, 487, 492, 493, 495, 497, 498],\n",
       "            dtype='int64', length=250),\n",
       " 'Male': Int64Index([  0,   2,   9,  10,  11,  14,  18,  19,  20,  21,\n",
       "             ...\n",
       "             479, 481, 483, 488, 489, 490, 491, 494, 496, 499],\n",
       "            dtype='int64', length=250)}"
      ]
     },
     "execution_count": 19,
     "metadata": {},
     "output_type": "execute_result"
    }
   ],
   "source": [
    "grouped_gender.groups"
   ]
  },
  {
   "cell_type": "code",
   "execution_count": 20,
   "metadata": {},
   "outputs": [
    {
     "name": "stdout",
     "output_type": "stream",
     "text": [
      "Female\n",
      "     Gender Economic Status      Height     Weight        Age        Income\n",
      "1    Female    Middle Class  202.433766  45.754030  17.890561  21254.426357\n",
      "3    Female            Rich  188.042725  38.534451  32.639086  18666.904711\n",
      "4    Female            Rich  185.439287  92.383559  22.089621  18897.096895\n",
      "5    Female            Rich  173.148977  85.730922   1.266733  20931.691191\n",
      "6    Female    Middle Class  132.942851  43.900497   8.406752  18568.563862\n",
      "..      ...             ...         ...        ...        ...           ...\n",
      "492  Female            Poor  143.255938  84.021195  34.756760  18593.795075\n",
      "493  Female    Middle Class  193.223295  99.816443  30.704576  19169.430470\n",
      "495  Female    Middle Class  188.641489  52.301432  39.321979  19258.961377\n",
      "497  Female    Middle Class  176.578614  92.220147  38.688200  19420.216821\n",
      "498  Female            Poor  181.994752  45.401364  27.299249  19045.033729\n",
      "\n",
      "[250 rows x 6 columns]\n",
      "Male\n",
      "    Gender Economic Status      Height      Weight        Age        Income\n",
      "0     Male            Poor  157.069589   73.369844  18.689996  20616.067072\n",
      "2     Male            Rich  207.786588   53.579648  38.889537  21236.220662\n",
      "9     Male            Poor  188.716178   27.159243   1.071640  18844.836107\n",
      "10    Male            Poor  143.685243   37.908016  42.038215  19336.726581\n",
      "11    Male            Poor  138.742345   96.205998  20.089603  19952.981612\n",
      "..     ...             ...         ...         ...        ...           ...\n",
      "490   Male            Poor  224.203213  108.277344  13.422081  20880.053791\n",
      "491   Male            Poor  145.894851   41.557700  40.575786  18408.174086\n",
      "494   Male            Rich  154.063403   93.157485  37.729039  21155.021263\n",
      "496   Male            Rich  146.586742   92.556557  47.321205  18401.729653\n",
      "499   Male            Poor  190.624272   41.855269  21.565566  18400.361489\n",
      "\n",
      "[250 rows x 6 columns]\n"
     ]
    }
   ],
   "source": [
    "for names, groups in grouped_gender:\n",
    "    print(names)\n",
    "    print(groups)"
   ]
  },
  {
   "cell_type": "code",
   "execution_count": 21,
   "metadata": {},
   "outputs": [
    {
     "data": {
      "text/html": [
       "<div>\n",
       "<style scoped>\n",
       "    .dataframe tbody tr th:only-of-type {\n",
       "        vertical-align: middle;\n",
       "    }\n",
       "\n",
       "    .dataframe tbody tr th {\n",
       "        vertical-align: top;\n",
       "    }\n",
       "\n",
       "    .dataframe thead th {\n",
       "        text-align: right;\n",
       "    }\n",
       "</style>\n",
       "<table border=\"1\" class=\"dataframe\">\n",
       "  <thead>\n",
       "    <tr style=\"text-align: right;\">\n",
       "      <th></th>\n",
       "      <th>Gender</th>\n",
       "      <th>Economic Status</th>\n",
       "      <th>Height</th>\n",
       "      <th>Weight</th>\n",
       "      <th>Age</th>\n",
       "      <th>Income</th>\n",
       "    </tr>\n",
       "  </thead>\n",
       "  <tbody>\n",
       "    <tr>\n",
       "      <td>1</td>\n",
       "      <td>Female</td>\n",
       "      <td>Middle Class</td>\n",
       "      <td>202.433766</td>\n",
       "      <td>45.754030</td>\n",
       "      <td>17.890561</td>\n",
       "      <td>21254.426357</td>\n",
       "    </tr>\n",
       "    <tr>\n",
       "      <td>3</td>\n",
       "      <td>Female</td>\n",
       "      <td>Rich</td>\n",
       "      <td>188.042725</td>\n",
       "      <td>38.534451</td>\n",
       "      <td>32.639086</td>\n",
       "      <td>18666.904711</td>\n",
       "    </tr>\n",
       "    <tr>\n",
       "      <td>4</td>\n",
       "      <td>Female</td>\n",
       "      <td>Rich</td>\n",
       "      <td>185.439287</td>\n",
       "      <td>92.383559</td>\n",
       "      <td>22.089621</td>\n",
       "      <td>18897.096895</td>\n",
       "    </tr>\n",
       "    <tr>\n",
       "      <td>5</td>\n",
       "      <td>Female</td>\n",
       "      <td>Rich</td>\n",
       "      <td>173.148977</td>\n",
       "      <td>85.730922</td>\n",
       "      <td>1.266733</td>\n",
       "      <td>20931.691191</td>\n",
       "    </tr>\n",
       "    <tr>\n",
       "      <td>6</td>\n",
       "      <td>Female</td>\n",
       "      <td>Middle Class</td>\n",
       "      <td>132.942851</td>\n",
       "      <td>43.900497</td>\n",
       "      <td>8.406752</td>\n",
       "      <td>18568.563862</td>\n",
       "    </tr>\n",
       "    <tr>\n",
       "      <td>...</td>\n",
       "      <td>...</td>\n",
       "      <td>...</td>\n",
       "      <td>...</td>\n",
       "      <td>...</td>\n",
       "      <td>...</td>\n",
       "      <td>...</td>\n",
       "    </tr>\n",
       "    <tr>\n",
       "      <td>492</td>\n",
       "      <td>Female</td>\n",
       "      <td>Poor</td>\n",
       "      <td>143.255938</td>\n",
       "      <td>84.021195</td>\n",
       "      <td>34.756760</td>\n",
       "      <td>18593.795075</td>\n",
       "    </tr>\n",
       "    <tr>\n",
       "      <td>493</td>\n",
       "      <td>Female</td>\n",
       "      <td>Middle Class</td>\n",
       "      <td>193.223295</td>\n",
       "      <td>99.816443</td>\n",
       "      <td>30.704576</td>\n",
       "      <td>19169.430470</td>\n",
       "    </tr>\n",
       "    <tr>\n",
       "      <td>495</td>\n",
       "      <td>Female</td>\n",
       "      <td>Middle Class</td>\n",
       "      <td>188.641489</td>\n",
       "      <td>52.301432</td>\n",
       "      <td>39.321979</td>\n",
       "      <td>19258.961377</td>\n",
       "    </tr>\n",
       "    <tr>\n",
       "      <td>497</td>\n",
       "      <td>Female</td>\n",
       "      <td>Middle Class</td>\n",
       "      <td>176.578614</td>\n",
       "      <td>92.220147</td>\n",
       "      <td>38.688200</td>\n",
       "      <td>19420.216821</td>\n",
       "    </tr>\n",
       "    <tr>\n",
       "      <td>498</td>\n",
       "      <td>Female</td>\n",
       "      <td>Poor</td>\n",
       "      <td>181.994752</td>\n",
       "      <td>45.401364</td>\n",
       "      <td>27.299249</td>\n",
       "      <td>19045.033729</td>\n",
       "    </tr>\n",
       "  </tbody>\n",
       "</table>\n",
       "<p>250 rows × 6 columns</p>\n",
       "</div>"
      ],
      "text/plain": [
       "     Gender Economic Status      Height     Weight        Age        Income\n",
       "1    Female    Middle Class  202.433766  45.754030  17.890561  21254.426357\n",
       "3    Female            Rich  188.042725  38.534451  32.639086  18666.904711\n",
       "4    Female            Rich  185.439287  92.383559  22.089621  18897.096895\n",
       "5    Female            Rich  173.148977  85.730922   1.266733  20931.691191\n",
       "6    Female    Middle Class  132.942851  43.900497   8.406752  18568.563862\n",
       "..      ...             ...         ...        ...        ...           ...\n",
       "492  Female            Poor  143.255938  84.021195  34.756760  18593.795075\n",
       "493  Female    Middle Class  193.223295  99.816443  30.704576  19169.430470\n",
       "495  Female    Middle Class  188.641489  52.301432  39.321979  19258.961377\n",
       "497  Female    Middle Class  176.578614  92.220147  38.688200  19420.216821\n",
       "498  Female            Poor  181.994752  45.401364  27.299249  19045.033729\n",
       "\n",
       "[250 rows x 6 columns]"
      ]
     },
     "execution_count": 21,
     "metadata": {},
     "output_type": "execute_result"
    }
   ],
   "source": [
    "grouped_gender.get_group(\"Female\") #para mostrar un grupo en espesifico"
   ]
  },
  {
   "cell_type": "code",
   "execution_count": 22,
   "metadata": {},
   "outputs": [],
   "source": [
    "double_group = data.groupby([\"Gender\", \"Economic Status\"])"
   ]
  },
  {
   "cell_type": "code",
   "execution_count": 23,
   "metadata": {},
   "outputs": [
    {
     "data": {
      "text/plain": [
       "6"
      ]
     },
     "execution_count": 23,
     "metadata": {},
     "output_type": "execute_result"
    }
   ],
   "source": [
    "len(double_group)"
   ]
  },
  {
   "cell_type": "code",
   "execution_count": 24,
   "metadata": {},
   "outputs": [
    {
     "name": "stdout",
     "output_type": "stream",
     "text": [
      "('Female', 'Middle Class')\n",
      "     Gender Economic Status      Height      Weight        Age        Income\n",
      "1    Female    Middle Class  202.433766   45.754030  17.890561  21254.426357\n",
      "6    Female    Middle Class  132.942851   43.900497   8.406752  18568.563862\n",
      "15   Female    Middle Class  115.622003   87.220731  25.401193  20399.622889\n",
      "16   Female    Middle Class  155.400657   61.859987   5.878813  21449.359098\n",
      "23   Female    Middle Class  183.848605  106.853930  31.197049  19751.062218\n",
      "..      ...             ...         ...         ...        ...           ...\n",
      "474  Female    Middle Class  133.662842   24.417155  22.135716  19878.560603\n",
      "478  Female    Middle Class  166.263011   50.627325  25.006754  20692.181467\n",
      "493  Female    Middle Class  193.223295   99.816443  30.704576  19169.430470\n",
      "495  Female    Middle Class  188.641489   52.301432  39.321979  19258.961377\n",
      "497  Female    Middle Class  176.578614   92.220147  38.688200  19420.216821\n",
      "\n",
      "[85 rows x 6 columns]\n",
      "('Female', 'Poor')\n",
      "     Gender Economic Status      Height      Weight        Age        Income\n",
      "7    Female            Poor  192.367471   70.267435  31.251128  19708.321445\n",
      "13   Female            Poor  130.261401   61.869945  18.848897  20145.455998\n",
      "26   Female            Poor  170.124520   75.659390  33.747301  21429.644902\n",
      "35   Female            Poor  129.812366   98.142368  41.172077  19390.876664\n",
      "42   Female            Poor  138.877336  105.746517  12.744665  19795.151419\n",
      "..      ...             ...         ...         ...        ...           ...\n",
      "470  Female            Poor  173.602422   55.774501  23.351444  18045.781926\n",
      "484  Female            Poor  142.740929   57.262516  28.165025  18816.852568\n",
      "487  Female            Poor  160.370985   85.186512  24.918944  19849.723688\n",
      "492  Female            Poor  143.255938   84.021195  34.756760  18593.795075\n",
      "498  Female            Poor  181.994752   45.401364  27.299249  19045.033729\n",
      "\n",
      "[78 rows x 6 columns]\n",
      "('Female', 'Rich')\n",
      "     Gender Economic Status      Height      Weight        Age        Income\n",
      "3    Female            Rich  188.042725   38.534451  32.639086  18666.904711\n",
      "4    Female            Rich  185.439287   92.383559  22.089621  18897.096895\n",
      "5    Female            Rich  173.148977   85.730922   1.266733  20931.691191\n",
      "8    Female            Rich  156.817701   71.721788  51.655502  18044.137493\n",
      "12   Female            Rich  145.624944   77.711858  18.524683  21155.628137\n",
      "..      ...             ...         ...         ...        ...           ...\n",
      "475  Female            Rich  179.472332   90.574865  16.215446  20592.893058\n",
      "480  Female            Rich  193.369358   75.890416  22.065269  19173.893852\n",
      "482  Female            Rich  123.223053   86.621844  52.647734  20049.406529\n",
      "485  Female            Rich  146.942167  107.949161  33.906914  20664.219385\n",
      "486  Female            Rich  119.608363   65.869562  33.985223  18295.197991\n",
      "\n",
      "[87 rows x 6 columns]\n",
      "('Male', 'Middle Class')\n",
      "    Gender Economic Status      Height     Weight        Age        Income\n",
      "21    Male    Middle Class  141.842404  83.456016  14.616040  21430.638923\n",
      "28    Male    Middle Class  162.132770   5.442116  38.274984  18962.157503\n",
      "39    Male    Middle Class  108.954351  98.882342  15.892242  21037.853541\n",
      "43    Male    Middle Class  204.146228  16.851231  44.984984  18352.822946\n",
      "44    Male    Middle Class  147.783602  66.402597  30.472528  18306.834202\n",
      "..     ...             ...         ...        ...        ...           ...\n",
      "466   Male    Middle Class  144.251696  35.427910  41.632442  18398.496907\n",
      "473   Male    Middle Class  176.735043  88.662736  35.741097  19371.156386\n",
      "476   Male    Middle Class  152.729402  71.519198  16.936181  21344.074387\n",
      "483   Male    Middle Class  176.568201  34.306683  13.355543  18387.424389\n",
      "489   Male    Middle Class  172.901050  48.826260  16.861539  21008.988172\n",
      "\n",
      "[86 rows x 6 columns]\n",
      "('Male', 'Poor')\n",
      "    Gender Economic Status      Height      Weight        Age        Income\n",
      "0     Male            Poor  157.069589   73.369844  18.689996  20616.067072\n",
      "9     Male            Poor  188.716178   27.159243   1.071640  18844.836107\n",
      "10    Male            Poor  143.685243   37.908016  42.038215  19336.726581\n",
      "11    Male            Poor  138.742345   96.205998  20.089603  19952.981612\n",
      "14    Male            Poor  198.137704   45.624088  30.867493  19253.463297\n",
      "..     ...             ...         ...         ...        ...           ...\n",
      "471   Male            Poor  199.053686  105.303849  10.729671  18123.646133\n",
      "481   Male            Poor  168.367531   85.370172  33.567730  20974.419741\n",
      "490   Male            Poor  224.203213  108.277344  13.422081  20880.053791\n",
      "491   Male            Poor  145.894851   41.557700  40.575786  18408.174086\n",
      "499   Male            Poor  190.624272   41.855269  21.565566  18400.361489\n",
      "\n",
      "[79 rows x 6 columns]\n",
      "('Male', 'Rich')\n",
      "    Gender Economic Status      Height     Weight        Age        Income\n",
      "2     Male            Rich  207.786588  53.579648  38.889537  21236.220662\n",
      "25    Male            Rich  154.773931  63.759329  55.983524  19766.543303\n",
      "32    Male            Rich  197.909478  72.711988   8.617282  18121.698375\n",
      "34    Male            Rich  191.218174  60.648958  31.900531  18729.163795\n",
      "37    Male            Rich  164.603150  58.295856  43.611211  19598.251718\n",
      "..     ...             ...         ...        ...        ...           ...\n",
      "477   Male            Rich  147.040594  41.879675  31.837552  21259.067776\n",
      "479   Male            Rich  128.774581  36.172580   8.949263  19040.732376\n",
      "488   Male            Rich  163.673260  26.944384  12.944336  19972.287698\n",
      "494   Male            Rich  154.063403  93.157485  37.729039  21155.021263\n",
      "496   Male            Rich  146.586742  92.556557  47.321205  18401.729653\n",
      "\n",
      "[85 rows x 6 columns]\n"
     ]
    }
   ],
   "source": [
    "for names, groups in double_group:\n",
    "    print(names)\n",
    "    print(groups)"
   ]
  },
  {
   "cell_type": "code",
   "execution_count": null,
   "metadata": {},
   "outputs": [],
   "source": []
  }
 ],
 "metadata": {
  "kernelspec": {
   "display_name": "Python 3",
   "language": "python",
   "name": "python3"
  },
  "language_info": {
   "codemirror_mode": {
    "name": "ipython",
    "version": 3
   },
   "file_extension": ".py",
   "mimetype": "text/x-python",
   "name": "python",
   "nbconvert_exporter": "python",
   "pygments_lexer": "ipython3",
   "version": "3.7.4"
  }
 },
 "nbformat": 4,
 "nbformat_minor": 2
}
